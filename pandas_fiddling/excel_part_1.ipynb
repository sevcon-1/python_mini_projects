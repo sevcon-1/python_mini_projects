{
 "cells": [
  {
   "cell_type": "code",
   "execution_count": null,
   "id": "68bacd8e",
   "metadata": {},
   "outputs": [],
   "source": [
    "import pandas as pd"
   ]
  },
  {
   "cell_type": "code",
   "execution_count": null,
   "id": "7b682122",
   "metadata": {},
   "outputs": [],
   "source": [
    "# Open up excel into an object\n",
    "# This takes a long time - in production might use different approach\n",
    "xls = pd.ExcelFile('tyb2223.xlsx')\n",
    "\n",
    "# Read sheets into a dictionary of sheets\n",
    "excel_map = pd.read_excel(xls, sheet_name=None)\n",
    "#print(excel_map.keys())"
   ]
  },
  {
   "cell_type": "code",
   "execution_count": null,
   "id": "59d0ef88",
   "metadata": {},
   "outputs": [],
   "source": [
    "# Copy into a dict just because of naming below. No real need to do this\n",
    "df_dict = excel_map"
   ]
  },
  {
   "cell_type": "code",
   "execution_count": null,
   "id": "9cdcb1bc",
   "metadata": {},
   "outputs": [],
   "source": [
    "#print(df_dict['May 21'])"
   ]
  },
  {
   "cell_type": "code",
   "execution_count": null,
   "id": "a897baf1",
   "metadata": {},
   "outputs": [],
   "source": [
    "# Create a list of sheets to ignore\n",
    "# Iterate over the sheets in the dict created above (misnamed stuff when starting out is all)\n",
    "# Exclude the sheet if it's in the list\n",
    "# Do some DQ analysis\n",
    "# Otherwise - Group the data in the current sheet. Convert in-line to a dataframe\n",
    "# Concatenate these as we go along\n",
    "# Group the final sheet up to category level as it is the complete set\n",
    "\n",
    "exclude_sheets = ['Template', 'Lists']\n",
    "\n",
    "month_totals_df= pd.DataFrame()\n",
    "totals_df= pd.DataFrame()\n",
    "\n",
    "for k in df_dict.keys():\n",
    "    print(k)\n",
    "    if k in exclude_sheets:\n",
    "        #print(\"Excluded\")\n",
    "        continue\n",
    "    else:\n",
    "        \n",
    "        # Check actuals column for nulls:\n",
    "        check_nan = df_dict[k]['Actual'].isnull().values.any()\n",
    "        if check_nan:\n",
    "            print(f'Null Actuals in sheet: {k}')\n",
    "        try:\n",
    "            current_month_df = pd.DataFrame(df_dict[k].groupby('Category')['Actual'].sum())\n",
    "        except:\n",
    "            print(f'Error grouping: {k}')\n",
    "        #Add current month to new dataframe\n",
    "        current_month_df['month'] = k\n",
    "        #display(current_month_df.head(10))\n",
    "        #display(totals_df)\n",
    "        month_totals_df = pd.concat([month_totals_df, current_month_df], axis=0) #, ignore_index=False)\n",
    "\n",
    "# Group the months\n",
    "totals_df = pd.DataFrame(month_totals_df.groupby('Category')['Actual'].sum()).reset_index()\n",
    "#print(totals_df)\n",
    "rental_categories = ['Airbnb', 'Cottages', 'Private']\n",
    "\n"
   ]
  },
  {
   "cell_type": "code",
   "execution_count": null,
   "id": "c1409b1b",
   "metadata": {},
   "outputs": [],
   "source": [
    "# Format floats to 2 places:\n",
    "month_totals_df.style.format({\"Actual\" : \".2f\"})\n",
    "totals_df.style.format({\"Actual\" : \".2f\"})\n",
    "# Output to csv\n",
    "month_totals_df.to_csv('categories_all_months.csv', float_format='%.2f')\n",
    "\n",
    "totals_df.to_csv('category_totals.csv', float_format='%.2f')"
   ]
  },
  {
   "cell_type": "code",
   "execution_count": null,
   "id": "8bd11139",
   "metadata": {},
   "outputs": [],
   "source": [
    "print(totals_df)"
   ]
  },
  {
   "cell_type": "code",
   "execution_count": null,
   "id": "aeb105f9",
   "metadata": {},
   "outputs": [],
   "source": [
    "print(f'month_totals: {month_totals_df.dtypes}')\n",
    "print(f'totals: {totals_df.dtypes}')\n"
   ]
  },
  {
   "cell_type": "code",
   "execution_count": null,
   "id": "c22f97ee",
   "metadata": {},
   "outputs": [],
   "source": [
    "print(totals_df.head(10))\n"
   ]
  },
  {
   "cell_type": "markdown",
   "id": "9555b284",
   "metadata": {},
   "source": [
    "april_df = df['April 21']\n",
    "print(april_df.head(5))\n",
    "april_df.columns = ['Date', 'Category', 'Detail', 'In / Out', 'Amount', 'Actual', 'Notes',\n",
    "       'Unnamed: 7', 'Unnamed: 8']\n",
    "print(april_df.head(5))"
   ]
  },
  {
   "cell_type": "code",
   "execution_count": null,
   "id": "623117b5",
   "metadata": {},
   "outputs": [],
   "source": [
    "march_df = df_dict['March 22']"
   ]
  },
  {
   "cell_type": "code",
   "execution_count": null,
   "id": "260472e5",
   "metadata": {},
   "outputs": [],
   "source": [
    "month_df = df_dict['May 21']\n",
    "#display(month_df)\n",
    "per_month_actuals = month_df.groupby('Category')['Actual'].sum()\n",
    "per_month_actuals.head(100)\n",
    "\n"
   ]
  },
  {
   "cell_type": "code",
   "execution_count": null,
   "id": "695061ea",
   "metadata": {},
   "outputs": [],
   "source": [
    "# TODO Per month\n"
   ]
  },
  {
   "cell_type": "code",
   "execution_count": null,
   "id": "763797e2",
   "metadata": {},
   "outputs": [],
   "source": [
    "month_totals_df.loc['Maintenance']"
   ]
  },
  {
   "cell_type": "code",
   "execution_count": null,
   "id": "625b1be2",
   "metadata": {},
   "outputs": [],
   "source": [
    "# WHERE CLAUSE ?\n",
    "# Per Category\n",
    "#display(totals_df)\n",
    "where_df = month_totals_df.where(month_totals_df['month']=='April 21')\n",
    "display(where_df)\n"
   ]
  },
  {
   "cell_type": "code",
   "execution_count": null,
   "id": "b49e53f4",
   "metadata": {},
   "outputs": [],
   "source": []
  }
 ],
 "metadata": {
  "kernelspec": {
   "display_name": "Python 3 (ipykernel)",
   "language": "python",
   "name": "python3"
  },
  "language_info": {
   "codemirror_mode": {
    "name": "ipython",
    "version": 3
   },
   "file_extension": ".py",
   "mimetype": "text/x-python",
   "name": "python",
   "nbconvert_exporter": "python",
   "pygments_lexer": "ipython3",
   "version": "3.9.7"
  }
 },
 "nbformat": 4,
 "nbformat_minor": 5
}
