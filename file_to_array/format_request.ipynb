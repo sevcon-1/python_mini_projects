{
 "cells": [
  {
   "cell_type": "code",
   "execution_count": 2,
   "id": "f0db65ba",
   "metadata": {},
   "outputs": [],
   "source": [
    "import re\n",
    "import json\n",
    "import logging"
   ]
  },
  {
   "cell_type": "code",
   "execution_count": 14,
   "id": "349eea00",
   "metadata": {},
   "outputs": [
    {
     "name": "stderr",
     "output_type": "stream",
     "text": [
      "INFO:root:Info\n",
      "WARNING:root:Warning\n",
      "DEBUG:root:Debug\n",
      "ERROR:root:Error\n"
     ]
    }
   ],
   "source": [
    "logging.basicConfig(level=logging.ERROR)\n",
    "logging.info('Info')\n",
    "logging.warning('Warning')\n",
    "logging.debug('Debug')\n",
    "logging.error('Error')"
   ]
  },
  {
   "cell_type": "code",
   "execution_count": 15,
   "id": "6baa130a",
   "metadata": {},
   "outputs": [
    {
     "name": "stderr",
     "output_type": "stream",
     "text": [
      "INFO:root:Info here too\n"
     ]
    }
   ],
   "source": [
    "chop_comma = re.compile(',\\s*$')\n",
    "logging.info('Info here too')"
   ]
  },
  {
   "cell_type": "code",
   "execution_count": 9,
   "id": "e0529841",
   "metadata": {},
   "outputs": [],
   "source": [
    "with open('input.json', 'r') as file:\n",
    "    data = file.readlines()\n",
    "    record_list = data[0][1:-1].replace('{\"DATA\": \"DELIMITER\",','|{').split('|')\n",
    "\n",
    "  "
   ]
  },
  {
   "cell_type": "markdown",
   "id": "a62effbc",
   "metadata": {},
   "source": [
    "record = record_list[1]\n",
    "x = re.search(chop_comma, record)\n",
    "print(x.span())\n",
    "print(record[:123])"
   ]
  },
  {
   "cell_type": "code",
   "execution_count": 14,
   "id": "ba032e03",
   "metadata": {},
   "outputs": [],
   "source": [
    "for r in record_list:\n",
    "    search_obj = re.search(chop_comma, r)\n",
    "    \n",
    "    if search_obj:\n",
    "        end_idx = search_obj.span()[0]\n",
    "    else:\n",
    "        end_idx = len(r)\n",
    "    record = (r[:end_idx])\n",
    "    json_record = json.dumps(record)"
   ]
  },
  {
   "cell_type": "code",
   "execution_count": 15,
   "id": "6f4ccb23",
   "metadata": {},
   "outputs": [
    {
     "name": "stdout",
     "output_type": "stream",
     "text": [
      "\"{ \\\"EmpId\\\": \\\"9012\\\", \\\"Addresses\\\": {\\\"Items\\\": [{\\\"AddressType\\\": {\\\"Code\\\": \\\"Home\\\"}, \\\"Address1\\\": \\\"3 MaesCaled\\\"}]}, \\\"Name\\\": \\\"Thomas\\\"}\"\n"
     ]
    }
   ],
   "source": [
    "print(json_record)"
   ]
  }
 ],
 "metadata": {
  "kernelspec": {
   "display_name": "Python 3 (ipykernel)",
   "language": "python",
   "name": "python3"
  },
  "language_info": {
   "codemirror_mode": {
    "name": "ipython",
    "version": 3
   },
   "file_extension": ".py",
   "mimetype": "text/x-python",
   "name": "python",
   "nbconvert_exporter": "python",
   "pygments_lexer": "ipython3",
   "version": "3.9.7"
  }
 },
 "nbformat": 4,
 "nbformat_minor": 5
}
