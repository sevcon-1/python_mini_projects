{
 "cells": [
  {
   "cell_type": "code",
   "execution_count": 2,
   "id": "68bacd8e",
   "metadata": {},
   "outputs": [],
   "source": [
    "import pandas as pd"
   ]
  },
  {
   "cell_type": "code",
   "execution_count": 3,
   "id": "7b682122",
   "metadata": {
    "scrolled": true
   },
   "outputs": [],
   "source": [
    "# Open up excel into an object\n",
    "# This takes a long time - in production might use different approach\n",
    "xls = pd.ExcelFile('tyb2122.xlsx')\n",
    "\n",
    "# Read sheets into a dictionary of sheets\n",
    "excel_map = pd.read_excel(xls, sheet_name=None)\n",
    "#print(excel_map.keys())"
   ]
  },
  {
   "cell_type": "code",
   "execution_count": 4,
   "id": "59d0ef88",
   "metadata": {},
   "outputs": [],
   "source": [
    "# Copy into a dict just because of naming below. No real need to do this\n",
    "df_dict = excel_map"
   ]
  },
  {
   "cell_type": "code",
   "execution_count": 5,
   "id": "9cdcb1bc",
   "metadata": {},
   "outputs": [],
   "source": [
    "#print(df_dict['May 21'])"
   ]
  },
  {
   "cell_type": "code",
   "execution_count": 6,
   "id": "a897baf1",
   "metadata": {},
   "outputs": [],
   "source": [
    "# Create a list of sheets to ignore\n",
    "# Iterate over the sheets in the dict created above (misnamed stuff when starting out is all)\n",
    "# Exclude the sheet if it's in the list\n",
    "# Do some DQ analysis\n",
    "# Otherwise - Group the data in the current sheet. Convert in-line to a dataframe\n",
    "# Concatenate these as we go along\n",
    "# Group the final sheet up to category level as it is the complete set\n",
    "\n",
    "exclude_sheets = ['Template', 'Lists']\n",
    "\n",
    "month_totals_df= pd.DataFrame()\n",
    "totals_df= pd.DataFrame()\n",
    "\n",
    "for k in df_dict.keys():\n",
    "    #print(k)\n",
    "    if k in exclude_sheets:\n",
    "        #print(\"Excluded\")\n",
    "        continue\n",
    "    else:\n",
    "        \n",
    "        # Check actuals column for nulls:\n",
    "        check_nan = df_dict[k]['Actual'].isnull().values.any()\n",
    "        if check_nan:\n",
    "            print(f'Null Actuals in sheet: {k}')\n",
    "        try:\n",
    "            current_month_df = pd.DataFrame(df_dict[k].groupby('Category')['Actual'].sum())\n",
    "        except:\n",
    "            print(f'Error grouping: {k}')\n",
    "        #Add current month to new dataframe\n",
    "        current_month_df['month'] = k\n",
    "        #display(current_month_df.head(10))\n",
    "        #display(totals_df)\n",
    "        month_totals_df = pd.concat([month_totals_df, current_month_df], axis=0) #, ignore_index=False)\n",
    "\n",
    "# Group the months\n",
    "totals_df = pd.DataFrame(month_totals_df.groupby('Category')['Actual'].sum()).reset_index()\n",
    "#print(totals_df)\n",
    "rental_categories = ['Airbnb', 'Cottages', 'Private']\n",
    "\n"
   ]
  },
  {
   "cell_type": "code",
   "execution_count": 23,
   "id": "c1409b1b",
   "metadata": {},
   "outputs": [],
   "source": [
    "# Format floats to 2 places:\n",
    "month_totals_df.style.format({\"Actual\" : \".2f\"})\n",
    "totals_df.style.format({\"Actual\" : \".2f\"})\n",
    "# Output to csv\n",
    "month_totals_df.to_csv('categories_all_months.csv', float_format='%.2f')\n",
    "\n",
    "totals_df.to_csv('category_totals.csv', float_format='%.2f')"
   ]
  },
  {
   "cell_type": "code",
   "execution_count": 19,
   "id": "cb1a8cda",
   "metadata": {
    "collapsed": true
   },
   "outputs": [
    {
     "ename": "ValueError",
     "evalue": "expected '}' before end of string",
     "output_type": "error",
     "traceback": [
      "\u001b[0;31m---------------------------------------------------------------------------\u001b[0m",
      "\u001b[0;31mValueError\u001b[0m                                Traceback (most recent call last)",
      "\u001b[0;32m/opt/homebrew/anaconda3/lib/python3.9/site-packages/IPython/core/formatters.py\u001b[0m in \u001b[0;36m__call__\u001b[0;34m(self, obj)\u001b[0m\n\u001b[1;32m    343\u001b[0m             \u001b[0mmethod\u001b[0m \u001b[0;34m=\u001b[0m \u001b[0mget_real_method\u001b[0m\u001b[0;34m(\u001b[0m\u001b[0mobj\u001b[0m\u001b[0;34m,\u001b[0m \u001b[0mself\u001b[0m\u001b[0;34m.\u001b[0m\u001b[0mprint_method\u001b[0m\u001b[0;34m)\u001b[0m\u001b[0;34m\u001b[0m\u001b[0;34m\u001b[0m\u001b[0m\n\u001b[1;32m    344\u001b[0m             \u001b[0;32mif\u001b[0m \u001b[0mmethod\u001b[0m \u001b[0;32mis\u001b[0m \u001b[0;32mnot\u001b[0m \u001b[0;32mNone\u001b[0m\u001b[0;34m:\u001b[0m\u001b[0;34m\u001b[0m\u001b[0;34m\u001b[0m\u001b[0m\n\u001b[0;32m--> 345\u001b[0;31m                 \u001b[0;32mreturn\u001b[0m \u001b[0mmethod\u001b[0m\u001b[0;34m(\u001b[0m\u001b[0;34m)\u001b[0m\u001b[0;34m\u001b[0m\u001b[0;34m\u001b[0m\u001b[0m\n\u001b[0m\u001b[1;32m    346\u001b[0m             \u001b[0;32mreturn\u001b[0m \u001b[0;32mNone\u001b[0m\u001b[0;34m\u001b[0m\u001b[0;34m\u001b[0m\u001b[0m\n\u001b[1;32m    347\u001b[0m         \u001b[0;32melse\u001b[0m\u001b[0;34m:\u001b[0m\u001b[0;34m\u001b[0m\u001b[0;34m\u001b[0m\u001b[0m\n",
      "\u001b[0;32m/opt/homebrew/anaconda3/lib/python3.9/site-packages/pandas/io/formats/style.py\u001b[0m in \u001b[0;36m_repr_html_\u001b[0;34m(self)\u001b[0m\n\u001b[1;32m    214\u001b[0m         \u001b[0mHooks\u001b[0m \u001b[0minto\u001b[0m \u001b[0mJupyter\u001b[0m \u001b[0mnotebook\u001b[0m \u001b[0mrich\u001b[0m \u001b[0mdisplay\u001b[0m \u001b[0msystem\u001b[0m\u001b[0;34m.\u001b[0m\u001b[0;34m\u001b[0m\u001b[0;34m\u001b[0m\u001b[0m\n\u001b[1;32m    215\u001b[0m         \"\"\"\n\u001b[0;32m--> 216\u001b[0;31m         \u001b[0;32mreturn\u001b[0m \u001b[0mself\u001b[0m\u001b[0;34m.\u001b[0m\u001b[0mrender\u001b[0m\u001b[0;34m(\u001b[0m\u001b[0;34m)\u001b[0m\u001b[0;34m\u001b[0m\u001b[0;34m\u001b[0m\u001b[0m\n\u001b[0m\u001b[1;32m    217\u001b[0m \u001b[0;34m\u001b[0m\u001b[0m\n\u001b[1;32m    218\u001b[0m     def render(\n",
      "\u001b[0;32m/opt/homebrew/anaconda3/lib/python3.9/site-packages/pandas/io/formats/style.py\u001b[0m in \u001b[0;36mrender\u001b[0;34m(self, sparse_index, sparse_columns, **kwargs)\u001b[0m\n\u001b[1;32m    270\u001b[0m         \u001b[0;32mif\u001b[0m \u001b[0msparse_columns\u001b[0m \u001b[0;32mis\u001b[0m \u001b[0;32mNone\u001b[0m\u001b[0;34m:\u001b[0m\u001b[0;34m\u001b[0m\u001b[0;34m\u001b[0m\u001b[0m\n\u001b[1;32m    271\u001b[0m             \u001b[0msparse_columns\u001b[0m \u001b[0;34m=\u001b[0m \u001b[0mget_option\u001b[0m\u001b[0;34m(\u001b[0m\u001b[0;34m\"styler.sparse.columns\"\u001b[0m\u001b[0;34m)\u001b[0m\u001b[0;34m\u001b[0m\u001b[0;34m\u001b[0m\u001b[0m\n\u001b[0;32m--> 272\u001b[0;31m         \u001b[0;32mreturn\u001b[0m \u001b[0mself\u001b[0m\u001b[0;34m.\u001b[0m\u001b[0m_render_html\u001b[0m\u001b[0;34m(\u001b[0m\u001b[0msparse_index\u001b[0m\u001b[0;34m,\u001b[0m \u001b[0msparse_columns\u001b[0m\u001b[0;34m,\u001b[0m \u001b[0;34m**\u001b[0m\u001b[0mkwargs\u001b[0m\u001b[0;34m)\u001b[0m\u001b[0;34m\u001b[0m\u001b[0;34m\u001b[0m\u001b[0m\n\u001b[0m\u001b[1;32m    273\u001b[0m \u001b[0;34m\u001b[0m\u001b[0m\n\u001b[1;32m    274\u001b[0m     def set_tooltips(\n",
      "\u001b[0;32m/opt/homebrew/anaconda3/lib/python3.9/site-packages/pandas/io/formats/style_render.py\u001b[0m in \u001b[0;36m_render_html\u001b[0;34m(self, sparse_index, sparse_columns, **kwargs)\u001b[0m\n\u001b[1;32m    121\u001b[0m         \u001b[0mself\u001b[0m\u001b[0;34m.\u001b[0m\u001b[0m_compute\u001b[0m\u001b[0;34m(\u001b[0m\u001b[0;34m)\u001b[0m\u001b[0;34m\u001b[0m\u001b[0;34m\u001b[0m\u001b[0m\n\u001b[1;32m    122\u001b[0m         \u001b[0;31m# TODO: namespace all the pandas keys\u001b[0m\u001b[0;34m\u001b[0m\u001b[0;34m\u001b[0m\u001b[0m\n\u001b[0;32m--> 123\u001b[0;31m         \u001b[0md\u001b[0m \u001b[0;34m=\u001b[0m \u001b[0mself\u001b[0m\u001b[0;34m.\u001b[0m\u001b[0m_translate\u001b[0m\u001b[0;34m(\u001b[0m\u001b[0msparse_index\u001b[0m\u001b[0;34m,\u001b[0m \u001b[0msparse_columns\u001b[0m\u001b[0;34m)\u001b[0m\u001b[0;34m\u001b[0m\u001b[0;34m\u001b[0m\u001b[0m\n\u001b[0m\u001b[1;32m    124\u001b[0m         \u001b[0md\u001b[0m\u001b[0;34m.\u001b[0m\u001b[0mupdate\u001b[0m\u001b[0;34m(\u001b[0m\u001b[0mkwargs\u001b[0m\u001b[0;34m)\u001b[0m\u001b[0;34m\u001b[0m\u001b[0;34m\u001b[0m\u001b[0m\n\u001b[1;32m    125\u001b[0m         return self.template_html.render(\n",
      "\u001b[0;32m/opt/homebrew/anaconda3/lib/python3.9/site-packages/pandas/io/formats/style_render.py\u001b[0m in \u001b[0;36m_translate\u001b[0;34m(self, sparse_index, sparse_cols, blank)\u001b[0m\n\u001b[1;32m    219\u001b[0m             \u001b[0mlist\u001b[0m\u001b[0;34m\u001b[0m\u001b[0;34m\u001b[0m\u001b[0m\n\u001b[1;32m    220\u001b[0m         )\n\u001b[0;32m--> 221\u001b[0;31m         body = self._translate_body(\n\u001b[0m\u001b[1;32m    222\u001b[0m             \u001b[0mDATA_CLASS\u001b[0m\u001b[0;34m,\u001b[0m\u001b[0;34m\u001b[0m\u001b[0;34m\u001b[0m\u001b[0m\n\u001b[1;32m    223\u001b[0m             \u001b[0mROW_HEADING_CLASS\u001b[0m\u001b[0;34m,\u001b[0m\u001b[0;34m\u001b[0m\u001b[0;34m\u001b[0m\u001b[0m\n",
      "\u001b[0;32m/opt/homebrew/anaconda3/lib/python3.9/site-packages/pandas/io/formats/style_render.py\u001b[0m in \u001b[0;36m_translate_body\u001b[0;34m(self, data_class, row_heading_class, sparsify_index, max_rows, max_cols, trimmed_row_class, trimmed_col_class)\u001b[0m\n\u001b[1;32m    512\u001b[0m                     \u001b[0;34m(\u001b[0m\u001b[0mc\u001b[0m \u001b[0;32mnot\u001b[0m \u001b[0;32min\u001b[0m \u001b[0mself\u001b[0m\u001b[0;34m.\u001b[0m\u001b[0mhidden_columns\u001b[0m \u001b[0;32mand\u001b[0m \u001b[0mr\u001b[0m \u001b[0;32mnot\u001b[0m \u001b[0;32min\u001b[0m \u001b[0mself\u001b[0m\u001b[0;34m.\u001b[0m\u001b[0mhidden_rows\u001b[0m\u001b[0;34m)\u001b[0m\u001b[0;34m,\u001b[0m\u001b[0;34m\u001b[0m\u001b[0;34m\u001b[0m\u001b[0m\n\u001b[1;32m    513\u001b[0m                     \u001b[0mattributes\u001b[0m\u001b[0;34m=\u001b[0m\u001b[0;34m\"\"\u001b[0m\u001b[0;34m,\u001b[0m\u001b[0;34m\u001b[0m\u001b[0;34m\u001b[0m\u001b[0m\n\u001b[0;32m--> 514\u001b[0;31m                     \u001b[0mdisplay_value\u001b[0m\u001b[0;34m=\u001b[0m\u001b[0mself\u001b[0m\u001b[0;34m.\u001b[0m\u001b[0m_display_funcs\u001b[0m\u001b[0;34m[\u001b[0m\u001b[0;34m(\u001b[0m\u001b[0mr\u001b[0m\u001b[0;34m,\u001b[0m \u001b[0mc\u001b[0m\u001b[0;34m)\u001b[0m\u001b[0;34m]\u001b[0m\u001b[0;34m(\u001b[0m\u001b[0mvalue\u001b[0m\u001b[0;34m)\u001b[0m\u001b[0;34m,\u001b[0m\u001b[0;34m\u001b[0m\u001b[0;34m\u001b[0m\u001b[0m\n\u001b[0m\u001b[1;32m    515\u001b[0m                 )\n\u001b[1;32m    516\u001b[0m \u001b[0;34m\u001b[0m\u001b[0m\n",
      "\u001b[0;32m/opt/homebrew/anaconda3/lib/python3.9/site-packages/pandas/io/formats/style_render.py\u001b[0m in \u001b[0;36m<lambda>\u001b[0;34m(x)\u001b[0m\n\u001b[1;32m    975\u001b[0m     \u001b[0;31m# Get initial func from input string, input callable, or from default factory\u001b[0m\u001b[0;34m\u001b[0m\u001b[0;34m\u001b[0m\u001b[0m\n\u001b[1;32m    976\u001b[0m     \u001b[0;32mif\u001b[0m \u001b[0misinstance\u001b[0m\u001b[0;34m(\u001b[0m\u001b[0mformatter\u001b[0m\u001b[0;34m,\u001b[0m \u001b[0mstr\u001b[0m\u001b[0;34m)\u001b[0m\u001b[0;34m:\u001b[0m\u001b[0;34m\u001b[0m\u001b[0;34m\u001b[0m\u001b[0m\n\u001b[0;32m--> 977\u001b[0;31m         \u001b[0mfunc_0\u001b[0m \u001b[0;34m=\u001b[0m \u001b[0;32mlambda\u001b[0m \u001b[0mx\u001b[0m\u001b[0;34m:\u001b[0m \u001b[0mformatter\u001b[0m\u001b[0;34m.\u001b[0m\u001b[0mformat\u001b[0m\u001b[0;34m(\u001b[0m\u001b[0mx\u001b[0m\u001b[0;34m)\u001b[0m\u001b[0;34m\u001b[0m\u001b[0;34m\u001b[0m\u001b[0m\n\u001b[0m\u001b[1;32m    978\u001b[0m     \u001b[0;32melif\u001b[0m \u001b[0mcallable\u001b[0m\u001b[0;34m(\u001b[0m\u001b[0mformatter\u001b[0m\u001b[0;34m)\u001b[0m\u001b[0;34m:\u001b[0m\u001b[0;34m\u001b[0m\u001b[0;34m\u001b[0m\u001b[0m\n\u001b[1;32m    979\u001b[0m         \u001b[0mfunc_0\u001b[0m \u001b[0;34m=\u001b[0m \u001b[0mformatter\u001b[0m\u001b[0;34m\u001b[0m\u001b[0;34m\u001b[0m\u001b[0m\n",
      "\u001b[0;31mValueError\u001b[0m: expected '}' before end of string"
     ]
    },
    {
     "data": {
      "text/plain": [
       "<pandas.io.formats.style.Styler at 0x7fa9faec4c70>"
      ]
     },
     "execution_count": 19,
     "metadata": {},
     "output_type": "execute_result"
    }
   ],
   "source": [
    "# Format floats to 2 places:\n",
    "month_totals_df.style.format({\"Actual\" : \"{.2f\"})\n",
    "totals_df.style.format({\"Actual\" : \"{.2f\"})"
   ]
  },
  {
   "cell_type": "code",
   "execution_count": 8,
   "id": "8bd11139",
   "metadata": {},
   "outputs": [
    {
     "name": "stdout",
     "output_type": "stream",
     "text": [
      "       Category    Actual\n",
      "0   Accountancy   -312.00\n",
      "1   Advertising    -60.00\n",
      "2        Airbnb  14888.25\n",
      "3     Broadband   -327.98\n",
      "4      Cottages   3700.52\n",
      "5   Council Tax      0.00\n",
      "6   Electricity  -2066.96\n",
      "7   Furnishings  -2015.35\n",
      "8     Household   -523.58\n",
      "9     Insurance   -287.79\n",
      "10      Laundry  -1492.70\n",
      "11         Loan  -5317.34\n",
      "12         Logs   -126.00\n",
      "13  Maintenance   -972.61\n",
      "14         Misc    -14.29\n",
      "15     Mortgage  -2892.84\n",
      "16      Private   3479.50\n",
      "17     Private       0.00\n",
      "18   TV Licence   -158.94\n",
      "19        Water   -300.00\n",
      "20      Welcome   -894.22\n"
     ]
    }
   ],
   "source": [
    "print(totals_df)"
   ]
  },
  {
   "cell_type": "code",
   "execution_count": 9,
   "id": "aeb105f9",
   "metadata": {},
   "outputs": [
    {
     "name": "stdout",
     "output_type": "stream",
     "text": [
      "month_totals: Actual    float64\n",
      "month      object\n",
      "dtype: object\n",
      "totals: Category     object\n",
      "Actual      float64\n",
      "dtype: object\n"
     ]
    }
   ],
   "source": [
    "print(f'month_totals: {month_totals_df.dtypes}')\n",
    "print(f'totals: {totals_df.dtypes}')\n"
   ]
  },
  {
   "cell_type": "code",
   "execution_count": 10,
   "id": "c22f97ee",
   "metadata": {},
   "outputs": [
    {
     "name": "stdout",
     "output_type": "stream",
     "text": [
      "      Category    Actual\n",
      "0  Accountancy   -312.00\n",
      "1  Advertising    -60.00\n",
      "2       Airbnb  14888.25\n",
      "3    Broadband   -327.98\n",
      "4     Cottages   3700.52\n",
      "5  Council Tax      0.00\n",
      "6  Electricity  -2066.96\n",
      "7  Furnishings  -2015.35\n",
      "8    Household   -523.58\n",
      "9    Insurance   -287.79\n"
     ]
    }
   ],
   "source": [
    "print(totals_df.head(10))\n"
   ]
  },
  {
   "cell_type": "markdown",
   "id": "9555b284",
   "metadata": {},
   "source": [
    "april_df = df['April 21']\n",
    "print(april_df.head(5))\n",
    "april_df.columns = ['Date', 'Category', 'Detail', 'In / Out', 'Amount', 'Actual', 'Notes',\n",
    "       'Unnamed: 7', 'Unnamed: 8']\n",
    "print(april_df.head(5))"
   ]
  },
  {
   "cell_type": "code",
   "execution_count": 11,
   "id": "623117b5",
   "metadata": {},
   "outputs": [],
   "source": [
    "march_df = df_dict['March 22']"
   ]
  },
  {
   "cell_type": "code",
   "execution_count": 12,
   "id": "260472e5",
   "metadata": {},
   "outputs": [
    {
     "data": {
      "text/plain": [
       "Category\n",
       "Airbnb         1229.10\n",
       "Broadband       -27.68\n",
       "Cottages        905.24\n",
       "Council Tax       0.00\n",
       "Electricity     -61.87\n",
       "Furnishings    -138.07\n",
       "Household       -24.20\n",
       "Laundry        -241.20\n",
       "Loan           -179.06\n",
       "Maintenance     -62.41\n",
       "Mortgage       -241.07\n",
       "Private         423.75\n",
       "TV Licence      -11.87\n",
       "Water           -25.00\n",
       "Welcome         -45.13\n",
       "Name: Actual, dtype: float64"
      ]
     },
     "execution_count": 12,
     "metadata": {},
     "output_type": "execute_result"
    }
   ],
   "source": [
    "month_df = df_dict['May 21']\n",
    "#display(month_df)\n",
    "per_month_actuals = month_df.groupby('Category')['Actual'].sum()\n",
    "per_month_actuals.head(100)\n",
    "\n"
   ]
  },
  {
   "cell_type": "code",
   "execution_count": 13,
   "id": "695061ea",
   "metadata": {},
   "outputs": [],
   "source": [
    "# TODO Per month\n"
   ]
  },
  {
   "cell_type": "code",
   "execution_count": 14,
   "id": "763797e2",
   "metadata": {},
   "outputs": [
    {
     "data": {
      "text/html": [
       "<div>\n",
       "<style scoped>\n",
       "    .dataframe tbody tr th:only-of-type {\n",
       "        vertical-align: middle;\n",
       "    }\n",
       "\n",
       "    .dataframe tbody tr th {\n",
       "        vertical-align: top;\n",
       "    }\n",
       "\n",
       "    .dataframe thead th {\n",
       "        text-align: right;\n",
       "    }\n",
       "</style>\n",
       "<table border=\"1\" class=\"dataframe\">\n",
       "  <thead>\n",
       "    <tr style=\"text-align: right;\">\n",
       "      <th></th>\n",
       "      <th>Actual</th>\n",
       "      <th>month</th>\n",
       "    </tr>\n",
       "    <tr>\n",
       "      <th>Category</th>\n",
       "      <th></th>\n",
       "      <th></th>\n",
       "    </tr>\n",
       "  </thead>\n",
       "  <tbody>\n",
       "    <tr>\n",
       "      <th>Maintenance</th>\n",
       "      <td>-114.34</td>\n",
       "      <td>March 22</td>\n",
       "    </tr>\n",
       "    <tr>\n",
       "      <th>Maintenance</th>\n",
       "      <td>-255.43</td>\n",
       "      <td>February 22</td>\n",
       "    </tr>\n",
       "    <tr>\n",
       "      <th>Maintenance</th>\n",
       "      <td>-58.10</td>\n",
       "      <td>January 22</td>\n",
       "    </tr>\n",
       "    <tr>\n",
       "      <th>Maintenance</th>\n",
       "      <td>-5.71</td>\n",
       "      <td>December 21</td>\n",
       "    </tr>\n",
       "    <tr>\n",
       "      <th>Maintenance</th>\n",
       "      <td>-53.29</td>\n",
       "      <td>November 21</td>\n",
       "    </tr>\n",
       "    <tr>\n",
       "      <th>Maintenance</th>\n",
       "      <td>-24.99</td>\n",
       "      <td>October 21</td>\n",
       "    </tr>\n",
       "    <tr>\n",
       "      <th>Maintenance</th>\n",
       "      <td>-26.99</td>\n",
       "      <td>September 21</td>\n",
       "    </tr>\n",
       "    <tr>\n",
       "      <th>Maintenance</th>\n",
       "      <td>-165.00</td>\n",
       "      <td>August 21</td>\n",
       "    </tr>\n",
       "    <tr>\n",
       "      <th>Maintenance</th>\n",
       "      <td>-48.37</td>\n",
       "      <td>July 21</td>\n",
       "    </tr>\n",
       "    <tr>\n",
       "      <th>Maintenance</th>\n",
       "      <td>-3.99</td>\n",
       "      <td>June 21</td>\n",
       "    </tr>\n",
       "    <tr>\n",
       "      <th>Maintenance</th>\n",
       "      <td>-62.41</td>\n",
       "      <td>May 21</td>\n",
       "    </tr>\n",
       "    <tr>\n",
       "      <th>Maintenance</th>\n",
       "      <td>-153.99</td>\n",
       "      <td>April 21</td>\n",
       "    </tr>\n",
       "  </tbody>\n",
       "</table>\n",
       "</div>"
      ],
      "text/plain": [
       "             Actual         month\n",
       "Category                         \n",
       "Maintenance -114.34      March 22\n",
       "Maintenance -255.43   February 22\n",
       "Maintenance  -58.10    January 22\n",
       "Maintenance   -5.71   December 21\n",
       "Maintenance  -53.29   November 21\n",
       "Maintenance  -24.99    October 21\n",
       "Maintenance  -26.99  September 21\n",
       "Maintenance -165.00     August 21\n",
       "Maintenance  -48.37       July 21\n",
       "Maintenance   -3.99       June 21\n",
       "Maintenance  -62.41        May 21\n",
       "Maintenance -153.99      April 21"
      ]
     },
     "execution_count": 14,
     "metadata": {},
     "output_type": "execute_result"
    }
   ],
   "source": [
    "month_totals_df.loc['Maintenance']"
   ]
  },
  {
   "cell_type": "code",
   "execution_count": 15,
   "id": "625b1be2",
   "metadata": {},
   "outputs": [
    {
     "data": {
      "text/html": [
       "<div>\n",
       "<style scoped>\n",
       "    .dataframe tbody tr th:only-of-type {\n",
       "        vertical-align: middle;\n",
       "    }\n",
       "\n",
       "    .dataframe tbody tr th {\n",
       "        vertical-align: top;\n",
       "    }\n",
       "\n",
       "    .dataframe thead th {\n",
       "        text-align: right;\n",
       "    }\n",
       "</style>\n",
       "<table border=\"1\" class=\"dataframe\">\n",
       "  <thead>\n",
       "    <tr style=\"text-align: right;\">\n",
       "      <th></th>\n",
       "      <th>Actual</th>\n",
       "      <th>month</th>\n",
       "    </tr>\n",
       "    <tr>\n",
       "      <th>Category</th>\n",
       "      <th></th>\n",
       "      <th></th>\n",
       "    </tr>\n",
       "  </thead>\n",
       "  <tbody>\n",
       "    <tr>\n",
       "      <th>Airbnb</th>\n",
       "      <td>NaN</td>\n",
       "      <td>NaN</td>\n",
       "    </tr>\n",
       "    <tr>\n",
       "      <th>Broadband</th>\n",
       "      <td>NaN</td>\n",
       "      <td>NaN</td>\n",
       "    </tr>\n",
       "    <tr>\n",
       "      <th>Council Tax</th>\n",
       "      <td>NaN</td>\n",
       "      <td>NaN</td>\n",
       "    </tr>\n",
       "    <tr>\n",
       "      <th>Electricity</th>\n",
       "      <td>NaN</td>\n",
       "      <td>NaN</td>\n",
       "    </tr>\n",
       "    <tr>\n",
       "      <th>Furnishings</th>\n",
       "      <td>NaN</td>\n",
       "      <td>NaN</td>\n",
       "    </tr>\n",
       "    <tr>\n",
       "      <th>...</th>\n",
       "      <td>...</td>\n",
       "      <td>...</td>\n",
       "    </tr>\n",
       "    <tr>\n",
       "      <th>Mortgage</th>\n",
       "      <td>-241.07</td>\n",
       "      <td>April 21</td>\n",
       "    </tr>\n",
       "    <tr>\n",
       "      <th>Private</th>\n",
       "      <td>352.50</td>\n",
       "      <td>April 21</td>\n",
       "    </tr>\n",
       "    <tr>\n",
       "      <th>TV Licence</th>\n",
       "      <td>-13.37</td>\n",
       "      <td>April 21</td>\n",
       "    </tr>\n",
       "    <tr>\n",
       "      <th>Water</th>\n",
       "      <td>-25.00</td>\n",
       "      <td>April 21</td>\n",
       "    </tr>\n",
       "    <tr>\n",
       "      <th>Welcome</th>\n",
       "      <td>-41.42</td>\n",
       "      <td>April 21</td>\n",
       "    </tr>\n",
       "  </tbody>\n",
       "</table>\n",
       "<p>181 rows × 2 columns</p>\n",
       "</div>"
      ],
      "text/plain": [
       "             Actual     month\n",
       "Category                     \n",
       "Airbnb          NaN       NaN\n",
       "Broadband       NaN       NaN\n",
       "Council Tax     NaN       NaN\n",
       "Electricity     NaN       NaN\n",
       "Furnishings     NaN       NaN\n",
       "...             ...       ...\n",
       "Mortgage    -241.07  April 21\n",
       "Private      352.50  April 21\n",
       "TV Licence   -13.37  April 21\n",
       "Water        -25.00  April 21\n",
       "Welcome      -41.42  April 21\n",
       "\n",
       "[181 rows x 2 columns]"
      ]
     },
     "metadata": {},
     "output_type": "display_data"
    }
   ],
   "source": [
    "# WHERE CLAUSE ?\n",
    "# Per Category\n",
    "#display(totals_df)\n",
    "where_df = month_totals_df.where(month_totals_df['month']=='April 21')\n",
    "display(where_df)\n"
   ]
  },
  {
   "cell_type": "code",
   "execution_count": null,
   "id": "b49e53f4",
   "metadata": {},
   "outputs": [],
   "source": []
  }
 ],
 "metadata": {
  "kernelspec": {
   "display_name": "Python 3 (ipykernel)",
   "language": "python",
   "name": "python3"
  },
  "language_info": {
   "codemirror_mode": {
    "name": "ipython",
    "version": 3
   },
   "file_extension": ".py",
   "mimetype": "text/x-python",
   "name": "python",
   "nbconvert_exporter": "python",
   "pygments_lexer": "ipython3",
   "version": "3.9.7"
  }
 },
 "nbformat": 4,
 "nbformat_minor": 5
}
