{
 "cells": [
  {
   "cell_type": "code",
   "execution_count": 7,
   "id": "f0db65ba",
   "metadata": {},
   "outputs": [],
   "source": [
    "import re\n",
    "import json"
   ]
  },
  {
   "cell_type": "code",
   "execution_count": 8,
   "id": "6baa130a",
   "metadata": {},
   "outputs": [],
   "source": [
    "chop_comma = re.compile(',\\s*$')"
   ]
  },
  {
   "cell_type": "code",
   "execution_count": 9,
   "id": "e0529841",
   "metadata": {},
   "outputs": [],
   "source": [
    "with open('input.json', 'r') as file:\n",
    "    data = file.readlines()\n",
    "    #print(data[0])\n",
    "    #all_records = data[0][1:-1].replace('{\"DATA\": \"DELIMITER\",','|{')\n",
    "    record_list = data[0][1:-1].replace('{\"DATA\": \"DELIMITER\",','|{').split('|')\n",
    "\n",
    "    #print(type(s))a\n",
    "    #print(all_records)\n",
    "    #record_list = all_records.replace('{\"DATA\": \"DELIMITER\",', '|{')[1:-1].split('|')\n",
    "    \n",
    "  "
   ]
  },
  {
   "cell_type": "code",
   "execution_count": 10,
   "id": "d6dc8d0b",
   "metadata": {},
   "outputs": [
    {
     "name": "stdout",
     "output_type": "stream",
     "text": [
      "['', '{ \"EmpId\": \"1234\", \"Addresses\": {\"Items\": [{\"AddressType\": {\"Code\": \"Home\"}, \"Address1\": \"1 MaesCaled\"}]}, \"Name\": \"Jones\"}, ', '{ \"EmpId\": \"5678\", \"Addresses\": {\"Items\": [{\"AddressType\": {\"Code\": \"Home\"}, \"Address1\": \"2 MaesCaled\"}]}, \"Name\": \"Roberts\"}, ', '{ \"EmpId\": \"9012\", \"Addresses\": {\"Items\": [{\"AddressType\": {\"Code\": \"Home\"}, \"Address1\": \"3 MaesCaled\"}]}, \"Name\": \"Thomas\"}']\n"
     ]
    }
   ],
   "source": [
    "print(record_list)"
   ]
  },
  {
   "cell_type": "markdown",
   "id": "a62effbc",
   "metadata": {},
   "source": [
    "record = record_list[1]\n",
    "x = re.search(chop_comma, record)\n",
    "print(x.span())\n",
    "print(record[:123])"
   ]
  },
  {
   "cell_type": "code",
   "execution_count": 14,
   "id": "ba032e03",
   "metadata": {},
   "outputs": [],
   "source": [
    "for r in record_list:\n",
    "    search_obj = re.search(chop_comma, r)\n",
    "    #print(search_obj)\n",
    "    if search_obj:\n",
    "        #print(search_obj.span()[0])\n",
    "        end_idx = search_obj.span()[0]\n",
    "    else:\n",
    "        end_idx = len(r)\n",
    "    record = (r[:end_idx])\n",
    "    json_record = json.dumps(record)"
   ]
  },
  {
   "cell_type": "code",
   "execution_count": 15,
   "id": "6f4ccb23",
   "metadata": {},
   "outputs": [
    {
     "name": "stdout",
     "output_type": "stream",
     "text": [
      "\"{ \\\"EmpId\\\": \\\"9012\\\", \\\"Addresses\\\": {\\\"Items\\\": [{\\\"AddressType\\\": {\\\"Code\\\": \\\"Home\\\"}, \\\"Address1\\\": \\\"3 MaesCaled\\\"}]}, \\\"Name\\\": \\\"Thomas\\\"}\"\n"
     ]
    }
   ],
   "source": [
    "print(json_record)"
   ]
  }
 ],
 "metadata": {
  "kernelspec": {
   "display_name": "Python 3 (ipykernel)",
   "language": "python",
   "name": "python3"
  },
  "language_info": {
   "codemirror_mode": {
    "name": "ipython",
    "version": 3
   },
   "file_extension": ".py",
   "mimetype": "text/x-python",
   "name": "python",
   "nbconvert_exporter": "python",
   "pygments_lexer": "ipython3",
   "version": "3.9.7"
  }
 },
 "nbformat": 4,
 "nbformat_minor": 5
}
